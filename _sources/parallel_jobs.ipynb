{
 "cells": [
  {
   "cell_type": "markdown",
   "id": "59dca1de",
   "metadata": {},
   "source": [
    "# Running in parallel\n",
    "\n",
    "One of the advantages of simple models like `konrad` is their low computational\n",
    "cost. This allows the user to explore a wide range of parameters in ensemble\n",
    "simulations.\n",
    "\n",
    "The python standard library includes the `multiprocessing` package, which\n",
    "allows to run these ensembles in parallel.\n",
    "\n",
    "% Don't run the code block because of issues with Jupyter and multiprocessing!\n",
    "```{code-block} ipython3\n",
    ":emphasize-lines: 26,27\n",
    "import itertools\n",
    "import multiprocessing\n",
    "\n",
    "import konrad\n",
    "\n",
    "\n",
    "def run_rce(Ts=300., RH=0.8):\n",
    "    \"\"\"Run an RCE for a given combination of Ts and RH.\"\"\"\n",
    "    rce = konrad.RCE(\n",
    "        atmosphere=konrad.atmosphere.Atmosphere(konrad.utils.get_quadratic_pgrid(num=64)),\n",
    "        surface=konrad.surface.FixedTemperature(temperature=Ts), \n",
    "        humidity=konrad.humidity.FixedRH(konrad.humidity.VerticallyUniform(RH)), \n",
    "    )\n",
    "    rce.run()\n",
    "\n",
    "    return rce\n",
    "\n",
    "\n",
    "# Define set of parameters\n",
    "Tss = [273, 288, 294, 300, 305]\n",
    "RHs = [.1, .25, .5, .75, .9]\n",
    "\n",
    "rce_configs = list(itertools.product(Tss, RHs))\n",
    "\n",
    "# Run processes in parallel\n",
    "with multiprocessing.Pool(processes=16) as pool:\n",
    "    rce_results = pool.starmap(run_rce, rce_configs)\n",
    "\n",
    "# Combine results in a dict.\n",
    "# (In python, tuples are immutable and can be used as dict-keys directly.)\n",
    "rces = dict(zip(rce_configs, rce_results))\n",
    "\n",
    "# Print results\n",
    "for (t, rh), rce in rces.items():\n",
    "    print(f\"T_s: {t}K\", f\"RH {rh:.0%}\", f\"OLR: {rce.radiation['lw_flxu'][-1, -1]:.2f}\")\n",
    "\n",
    "```"
   ]
  }
 ],
 "metadata": {
  "jupytext": {
   "text_representation": {
    "extension": ".md",
    "format_name": "myst",
    "format_version": 0.13,
    "jupytext_version": "1.14.4"
   }
  },
  "kernelspec": {
   "display_name": "Python 3",
   "language": "python",
   "name": "python3"
  },
  "language_info": {
   "codemirror_mode": {
    "name": "ipython",
    "version": 3
   },
   "file_extension": ".py",
   "mimetype": "text/x-python",
   "name": "python",
   "nbconvert_exporter": "python",
   "pygments_lexer": "ipython3",
   "version": "3.9.16"
  },
  "source_map": [
   12
  ]
 },
 "nbformat": 4,
 "nbformat_minor": 5
}