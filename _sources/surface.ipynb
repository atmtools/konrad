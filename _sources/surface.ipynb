{
 "cells": [
  {
   "cell_type": "markdown",
   "id": "cadd9154",
   "metadata": {},
   "source": [
    "# Surface"
   ]
  },
  {
   "cell_type": "code",
   "execution_count": 1,
   "id": "412d904e",
   "metadata": {},
   "outputs": [],
   "source": [
    "import matplotlib.pyplot as plt\n",
    "from typhon import plots\n",
    "\n",
    "import konrad\n",
    "\n",
    "\n",
    "plots.styles.use('typhon')"
   ]
  },
  {
   "cell_type": "markdown",
   "id": "fddbb299",
   "metadata": {},
   "source": [
    "## Fixed surface temperature\n",
    "\n",
    "The simplest representation of a surface in `konrad` is the fixed surface temperature.\n",
    "It is defined by an albedo and a prescribed temperature."
   ]
  },
  {
   "cell_type": "code",
   "execution_count": 2,
   "id": "547fffdb",
   "metadata": {},
   "outputs": [],
   "source": [
    "surface = konrad.surface.FixedTemperature(temperature=288., albedo=0.3)"
   ]
  },
  {
   "cell_type": "markdown",
   "id": "f4cfb2e2",
   "metadata": {},
   "source": [
    "When using a fixed surface temperature, the atmosphere component will converge to a consistent equilibrium quite fast (order of ~100 days)"
   ]
  },
  {
   "cell_type": "code",
   "execution_count": 3,
   "id": "0e8cc5ec",
   "metadata": {},
   "outputs": [],
   "source": [
    "plev, phlev = konrad.utils.get_pressure_grids(1000e2, 1, 128)\n",
    "atmosphere = konrad.atmosphere.Atmosphere(phlev)\n",
    "\n",
    "rce = konrad.RCE(\n",
    "    atmosphere,\n",
    "    surface=konrad.surface.FixedTemperature(temperature=288.),  # Run with a fixed surface temperature.\n",
    "    timestep='12h',  # Set timestep in model time.\n",
    "    max_duration='100d',  # Set maximum runtime.\n",
    ")\n",
    "rce.run()  # Start the simulation."
   ]
  },
  {
   "cell_type": "markdown",
   "id": "b04d0b4b",
   "metadata": {},
   "source": [
    "## Adjustable slab ocean\n",
    "\n",
    "In addition, `konrad` provides a slab surface component. In contrast to the fixed surface temperature, the slab surface will adjust it's temperature depending on the net energy budget at the surface layer.\n",
    "This energy consists of the net radiative fluxes as well as an enthalpy sink that can be thought of as heat transport in the ocean layer (e.g. by ocean currents to the extra-tropics).\n",
    "The value of the heat sink can be chosen to tune the energy budget. Here, we set it equal to the net energy balance at top-of-the-atmosphere from the previous fixed temperature run. This way, the model should be in equilibrium even if the surface temperature is allows to change."
   ]
  },
  {
   "cell_type": "code",
   "execution_count": 4,
   "id": "59186d81",
   "metadata": {},
   "outputs": [],
   "source": [
    "slab = konrad.surface.SlabOcean(\n",
    "    temperature=rce.surface[\"temperature\"][-1],\n",
    "    heat_sink=rce.radiation[\"toa\"][-1],\n",
    ")"
   ]
  },
  {
   "cell_type": "markdown",
   "id": "bddf1b99",
   "metadata": {},
   "source": [
    "Using the slab surface we can force our model with a doubling of CO2 and see the temperature slowly changing."
   ]
  },
  {
   "cell_type": "code",
   "execution_count": 5,
   "id": "3cdea3de",
   "metadata": {},
   "outputs": [
    {
     "name": "stdout",
     "output_type": "stream",
     "text": [
      "Initial temperature:  288.0\n"
     ]
    },
    {
     "name": "stdout",
     "output_type": "stream",
     "text": [
      "Temperature after 300 days:  288.44534866504586\n"
     ]
    }
   ],
   "source": [
    "atmosphere[\"CO2\"][:] *= 2\n",
    "\n",
    "print(\"Initial temperature: \", slab[\"temperature\"][0])\n",
    "\n",
    "rce = konrad.RCE(\n",
    "    atmosphere,\n",
    "    surface=slab,  # Run with a slab surface.\n",
    "    timestep='12h',  # Set timestep in model time.\n",
    "    max_duration='300d',  # Set maximum runtime.\n",
    ")\n",
    "rce.run()  # Start the simulation.\n",
    "\n",
    "print(\"Temperature after 300 days: \", slab[\"temperature\"][0])"
   ]
  }
 ],
 "metadata": {
  "execution": {
   "timeout": 180
  },
  "jupytext": {
   "text_representation": {
    "extension": ".md",
    "format_name": "myst",
    "format_version": 0.13,
    "jupytext_version": "1.10.3"
   }
  },
  "kernelspec": {
   "display_name": "Python 3 (ipykernel)",
   "language": "python",
   "name": "python3"
  },
  "language_info": {
   "codemirror_mode": {
    "name": "ipython",
    "version": 3
   },
   "file_extension": ".py",
   "mimetype": "text/x-python",
   "name": "python",
   "nbconvert_exporter": "python",
   "pygments_lexer": "ipython3",
   "version": "3.8.12"
  },
  "source_map": [
   14,
   18,
   26,
   33,
   35,
   39,
   50,
   58,
   63,
   67
  ]
 },
 "nbformat": 4,
 "nbformat_minor": 5
}