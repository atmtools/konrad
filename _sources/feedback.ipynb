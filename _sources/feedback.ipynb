{
 "cells": [
  {
   "cell_type": "markdown",
   "id": "e5534abc",
   "metadata": {},
   "source": [
    "# Climate feedback"
   ]
  },
  {
   "cell_type": "code",
   "execution_count": 1,
   "id": "23aeb096",
   "metadata": {},
   "outputs": [],
   "source": [
    "import matplotlib.pyplot as plt\n",
    "import netCDF4\n",
    "import numpy as np\n",
    "from typhon import plots\n",
    "\n",
    "import konrad\n",
    "\n",
    "\n",
    "plots.styles.use()"
   ]
  },
  {
   "cell_type": "markdown",
   "id": "e4eee58f",
   "metadata": {},
   "source": [
    "## Regression method\n",
    "\n",
    "Compute the climate feedback as regression of the radiation balance over the surface temperature change {cite:p}`gregory04`."
   ]
  },
  {
   "cell_type": "code",
   "execution_count": 2,
   "id": "1ca5c18d",
   "metadata": {},
   "outputs": [],
   "source": [
    "phlev = konrad.utils.get_quadratic_pgrid(1000e2, 10, 128)\n",
    "atmosphere = konrad.atmosphere.Atmosphere(phlev)\n",
    "\n",
    "# Initialize the setup for the radiative-convective equilibrium simulation.\n",
    "spinup = konrad.RCE(\n",
    "    atmosphere,\n",
    "    surface=konrad.surface.FixedTemperature(temperature=295.0),\n",
    "    timestep='24h',  # Set timestep in model time.\n",
    "    max_duration='150d',  # Set runtime.\n",
    "    outfile='spinup.nc',  # Specify output filename.\n",
    ")\n",
    "spinup.run()  # Start the simulation.\n",
    "\n",
    "atmosphere[\"CO2\"][:] *= 2.0 # double the CO2 concentration\n",
    "\n",
    "perturbed = konrad.RCE(\n",
    "    atmosphere,\n",
    "    surface=konrad.surface.SlabOcean(\n",
    "        temperature=295.0,\n",
    "        heat_sink=spinup.radiation[\"toa\"][-1],\n",
    "        depth=10.,\n",
    "    ),\n",
    "    timestep='12h',  # Set timestep in model time.\n",
    "    max_duration='300d',  # Set runtime.\n",
    "    outfile='perturbed.nc',  # Specify output filename.\n",
    ")\n",
    "perturbed.run()  # Start the simulation."
   ]
  },
  {
   "cell_type": "code",
   "execution_count": 3,
   "id": "344b4dce",
   "metadata": {},
   "outputs": [
    {
     "name": "stdout",
     "output_type": "stream",
     "text": [
      "Climate feedback: -1.143 W/m^2/K\n"
     ]
    },
    {
     "data": {
      "image/png": "[encoded data removed]",
      "text/plain": [
       "<Figure size 720x444.96 with 1 Axes>"
      ]
     },
     "metadata": {
      "filenames": {
       "image/png": "/home/runner/work/konrad/konrad/howto/_build/jupyter_execute/feedback_4_1.png"
      },
      "needs_background": "light"
     },
     "output_type": "display_data"
    }
   ],
   "source": [
    "with netCDF4.Dataset(\"perturbed.nc\", \"r\") as root:\n",
    "    Ts = root[\"surface/temperature\"][:]\n",
    "    olr = root[\"radiation/toa\"][:] - root[\"surface/heat_sink\"][0]\n",
    "\n",
    "fig, ax = plt.subplots()\n",
    "ax.plot(Ts - Ts[0], olr, lw=4)\n",
    "p = np.polyfit(Ts[25:] - Ts[0], olr[25:], deg=1)\n",
    "ax.axline((0, p[1]), slope=p[0], ls=\"dashed\", color=\"tab:orange\")\n",
    "ax.set_xlabel(r\"$\\Delta T_\\mathrm{s}$ / K\")\n",
    "ax.set_ylabel(r\"$\\Delta F$ / $\\rm Wm^{-2}$\")\n",
    "ax.set_xlim(0, 4)\n",
    "ax.set_ylim(0, 5)\n",
    "\n",
    "print(f\"Climate feedback: {p[0]:.3f} W/m^2/K\")"
   ]
  },
  {
   "cell_type": "markdown",
   "id": "07a8793e",
   "metadata": {},
   "source": [
    "## Fixed temperature method"
   ]
  },
  {
   "cell_type": "code",
   "execution_count": 4,
   "id": "2ad55e1d",
   "metadata": {},
   "outputs": [
    {
     "name": "stdout",
     "output_type": "stream",
     "text": [
      "Climate feedback: -1.176 W/m^2/K\n"
     ]
    }
   ],
   "source": [
    "phlev = konrad.utils.get_quadratic_pgrid(1000e2, 10, 128)\n",
    "atmosphere = konrad.atmosphere.Atmosphere(phlev)\n",
    "\n",
    "cold = konrad.RCE(\n",
    "    atmosphere,\n",
    "    surface=konrad.surface.FixedTemperature(temperature=295.0),\n",
    "    timestep='24h',  # Set timestep in model time.\n",
    "    max_duration='150d',  # Set runtime.\n",
    ")\n",
    "cold.run()  # Start the simulation.\n",
    "\n",
    "warm = konrad.RCE(\n",
    "    atmosphere,\n",
    "    surface=konrad.surface.FixedTemperature(temperature=297.0),\n",
    "    timestep='24h',  # Set timestep in model time.\n",
    "    max_duration='150d',  # Set runtime.\n",
    ")\n",
    "warm.run()  # Start the simulation.\n",
    "\n",
    "feedback = (\n",
    "    (warm.radiation[\"toa\"][-1] - cold.radiation[\"toa\"][-1]) /\n",
    "    (warm.surface[\"temperature\"][-1] - cold.surface[\"temperature\"][-1])\n",
    ")\n",
    "\n",
    "print(f\"Climate feedback: {feedback:.3f} W/m^2/K\")"
   ]
  }
 ],
 "metadata": {
  "execution": {
   "timeout": 300
  },
  "jupytext": {
   "text_representation": {
    "extension": ".md",
    "format_name": "myst",
    "format_version": 0.13,
    "jupytext_version": "1.10.3"
   }
  },
  "kernelspec": {
   "display_name": "Python 3 (ipykernel)",
   "language": "python",
   "name": "python3"
  },
  "language_info": {
   "codemirror_mode": {
    "name": "ipython",
    "version": 3
   },
   "file_extension": ".py",
   "mimetype": "text/x-python",
   "name": "python",
   "nbconvert_exporter": "python",
   "pygments_lexer": "ipython3",
   "version": "3.8.12"
  },
  "source_map": [
   14,
   18,
   28,
   34,
   64,
   79,
   83
  ]
 },
 "nbformat": 4,
 "nbformat_minor": 5
}