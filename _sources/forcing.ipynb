{
 "cells": [
  {
   "cell_type": "markdown",
   "id": "02b50949",
   "metadata": {},
   "source": [
    "# Radiative forcing"
   ]
  },
  {
   "cell_type": "code",
   "execution_count": 1,
   "id": "8f1ffdfb",
   "metadata": {},
   "outputs": [],
   "source": [
    "import matplotlib.pyplot as plt\n",
    "import numpy as np\n",
    "import typhon as ty\n",
    "\n",
    "import konrad\n",
    "\n",
    "\n",
    "ty.plots.styles.use()"
   ]
  },
  {
   "cell_type": "markdown",
   "id": "620d7db3",
   "metadata": {},
   "source": [
    "## Reference climate\n",
    "\n",
    "In a first step, we equilibrate our model in a reference climate state."
   ]
  },
  {
   "cell_type": "code",
   "execution_count": 2,
   "id": "cbd13a59",
   "metadata": {},
   "outputs": [],
   "source": [
    "phlev = konrad.utils.get_quadratic_pgrid(1000e2, 10, 128)\n",
    "atmosphere = konrad.atmosphere.Atmosphere(phlev)\n",
    "atmosphere[\"CO2\"][:] = 348e-6 # Set reference CO2 concentration\n",
    "\n",
    "# Calculate reference OLR.\n",
    "spinup = konrad.RCE(atmosphere, timestep='24h', max_duration='150d')\n",
    "spinup.run()"
   ]
  },
  {
   "cell_type": "markdown",
   "id": "ea397c21",
   "metadata": {},
   "source": [
    "After the model has converged, we store the outgoing-longwave radiation at the top-of-the-atmosphere.\n",
    "This value is our reference against which we will later compute the radiative forcing."
   ]
  },
  {
   "cell_type": "code",
   "execution_count": 3,
   "id": "2ffde864",
   "metadata": {},
   "outputs": [],
   "source": [
    "olr_ref = spinup.radiation[\"lw_flxu\"][-1, -1]"
   ]
  },
  {
   "cell_type": "markdown",
   "id": "45fdbb88",
   "metadata": {},
   "source": [
    "## Instantanoues forcing\n",
    "\n",
    "The instantanoues forcing is the change in OLR that is induced by a doubling of the CO2 concentration only.\n",
    "In this defintion, no other changes to the atmospheric state - in particular the temperature - are allowed."
   ]
  },
  {
   "cell_type": "code",
   "execution_count": 4,
   "id": "d465aa94",
   "metadata": {},
   "outputs": [
    {
     "name": "stdout",
     "output_type": "stream",
     "text": [
      "Instantanoues forcing: 2.57 W/m^2\n"
     ]
    }
   ],
   "source": [
    "# Calculate OLR at perturbed atmospheric state.\n",
    "atmosphere[\"CO2\"][:] *= 2  # double the CO2 concentration\n",
    "spinup.radiation.update_heatingrates(atmosphere)\n",
    "\n",
    "instant_forcing = -(spinup.radiation[\"lw_flxu\"][-1, -1] - olr_ref)\n",
    "print(f\"Instantanoues forcing: {instant_forcing:.2f} W/m^2\")"
   ]
  },
  {
   "cell_type": "markdown",
   "id": "fa2d2544",
   "metadata": {},
   "source": [
    "## Effective forcing\n",
    "\n",
    "The effective forcing includes the so called \"stratospheric adjustment\". Due to a significant cooling of the stratosphere, the radiative forcing at the top-of-the-atmosphere is increased.\n",
    "The effective forcing is better description of the radiative imbalance that actually forces the troposphere."
   ]
  },
  {
   "cell_type": "code",
   "execution_count": 5,
   "id": "43c4d33a",
   "metadata": {},
   "outputs": [
    {
     "name": "stdout",
     "output_type": "stream",
     "text": [
      "Effective forcing: 4.32 W/m^2\n"
     ]
    }
   ],
   "source": [
    "perturbed = konrad.RCE(atmosphere, timestep='24h',max_duration='150d')\n",
    "perturbed.run()\n",
    "\n",
    "effective_forcing = -(perturbed.radiation[\"lw_flxu\"][-1, -1] - olr_ref)\n",
    "print(f\"Effective forcing: {effective_forcing:.2f} W/m^2\")"
   ]
  }
 ],
 "metadata": {
  "jupytext": {
   "text_representation": {
    "extension": ".md",
    "format_name": "myst",
    "format_version": 0.13,
    "jupytext_version": "1.10.3"
   }
  },
  "kernelspec": {
   "display_name": "Python 3 (ipykernel)",
   "language": "python",
   "name": "python3"
  },
  "language_info": {
   "codemirror_mode": {
    "name": "ipython",
    "version": 3
   },
   "file_extension": ".py",
   "mimetype": "text/x-python",
   "name": "python",
   "nbconvert_exporter": "python",
   "pygments_lexer": "ipython3",
   "version": "3.8.12"
  },
  "source_map": [
   12,
   16,
   25,
   31,
   39,
   44,
   46,
   53,
   60,
   67
  ]
 },
 "nbformat": 4,
 "nbformat_minor": 5
}